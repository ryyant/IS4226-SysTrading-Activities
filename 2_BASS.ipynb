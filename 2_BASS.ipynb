{
  "cells": [
    {
      "cell_type": "code",
      "execution_count": 2,
      "metadata": {
        "id": "VdfO5Fyly0YD"
      },
      "outputs": [],
      "source": [
        "import yfinance as yf\n",
        "import math\n",
        "import pandas as pd\n",
        "import numpy as np"
      ]
    },
    {
      "cell_type": "code",
      "execution_count": 3,
      "metadata": {
        "id": "tv9RVI7Z0DCS"
      },
      "outputs": [],
      "source": [
        "def BASS(stock_symbol, benchmark_symbol, start, end):\n",
        "\n",
        "  # prep data with returns\n",
        "  df = pd.DataFrame()\n",
        "  df[\"benchmark\"] = yf.Ticker(benchmark_symbol).history(start=start, end=end).Close\n",
        "  df[\"stock\"] = yf.Ticker(stock_symbol).history(start=start, end=end).Close\n",
        "  df[\"benchmark_returns\"] = df[\"benchmark\"].pct_change()\n",
        "  df[\"stock_returns\"] = df[\"stock\"].pct_change()\n",
        "  df = df.dropna()\n",
        "\n",
        "  # Calculate Beta\n",
        "  cov = df['benchmark_returns'].cov(df['stock_returns'])\n",
        "  var = df['benchmark_returns'].var()\n",
        "  beta = cov/var\n",
        "  beta = round(beta, 2)\n",
        "  # print(\"The beta is {:.2f}\".format(beta))\n",
        "\n",
        "  # Calculate Alpha\n",
        "  benchmark_yearly_returns = (df[\"benchmark_returns\"].mean()*252)\n",
        "  stock_yearly_returns = (df[\"stock_returns\"].mean()*252)\n",
        "  alpha = (stock_yearly_returns - beta * benchmark_yearly_returns)*100\n",
        "  alpha = round(alpha, 2)\n",
        "  # print(\"The alpha is {:.2f}\".format(alpha))\n",
        "\n",
        "  # Calculate SD\n",
        "  std_dev = (df[\"stock_returns\"].std())*100\n",
        "  std_dev = round(std_dev, 2)\n",
        "  # print(\"The standard deviation is {:.2f}\".format(std_dev))\n",
        "\n",
        "  # Calculate Sharpe Ratio\n",
        "  avg_returns = df[\"stock_returns\"].mean()\n",
        "  std = df[\"stock_returns\"].std()\n",
        "  daily_SR = avg_returns / std\n",
        "  annual_SR = daily_SR * (252**0.5)\n",
        "  annual_SR = round(annual_SR, 2)\n",
        "  # print(\"The Sharpe Ratio is {:.2f}\".format(annual_SR))\n",
        "\n",
        "  return beta, alpha, std_dev, annual_SR"
      ]
    },
    {
      "cell_type": "code",
      "execution_count": 8,
      "metadata": {
        "id": "8O-7L_L20f4g"
      },
      "outputs": [],
      "source": [
        "all_stocks = [\"C52.SI\", \"S68.SI\", \"G13.SI\", \"V03.SI\" , \"U11.SI\",\n",
        "              \"C07.SI\" , \"D05.SI\", \"Z74.SI\", \"D01.SI\", \"O39.SI\", \"S63.SI\",\n",
        "              \"A17U.SI\" , \"BN4.SI\",\"BS6.SI\", \"M44U.SI\", \"H78.SI\", \"Y92.SI\",\n",
        "              \"C38U.SI\", \"U14.SI\", \"N2IU.SI\" , \"F34.SI\" , \"C09.SI\" , \"J36.SI\",\n",
        "              \"S58.SI\" , \"C6L.SI\", \"U96.SI\" , \"1810.HK\", \"9999.HK\", \"7500.HK\",\n",
        "              \"9618.HK\", \"1024.HK\", \"3690.HK\", \"6618.HK\"]\n",
        "\n",
        "stocks, betas, alphas, std_devs, sratios = [], [], [], [], []\n",
        "benchmark_symbol = \"^STI\"\n",
        "start = \"2021-01-01\"\n",
        "end = \"2021-12-31\""
      ]
    },
    {
      "cell_type": "code",
      "execution_count": 9,
      "metadata": {
        "colab": {
          "base_uri": "https://localhost:8080/"
        },
        "id": "uRjiqAqj1YYZ",
        "outputId": "a2dc5936-d282-48c6-850e-6ce77c10c266"
      },
      "outputs": [
        {
          "output_type": "stream",
          "name": "stdout",
          "text": [
            "      stock  beta  alpha(%)  std_devs(%)  sharpe\n",
            "6    D05.SI  1.28     18.03         1.12    1.71\n",
            "4    U11.SI  1.08     11.93         0.93    1.52\n",
            "13   BS6.SI  0.57     35.27         1.80    1.43\n",
            "15   H78.SI  0.59     26.67         1.43    1.42\n",
            "9    O39.SI  1.23      4.69         0.98    1.06\n",
            "25   U96.SI  1.16     10.33         1.68    0.81\n",
            "24   C6L.SI  1.36      5.99         1.71    0.70\n",
            "28  7500.HK -1.30     37.93         2.52    0.60\n",
            "5    C07.SI  0.81      2.18         1.38    0.46\n",
            "27  9999.HK  1.40      0.49         3.26    0.30\n",
            "7    Z74.SI  0.95     -4.35         1.07    0.28\n",
            "11  A17U.SI  0.66     -2.89         0.92    0.24\n",
            "22   J36.SI  1.11     -4.87         1.78    0.21\n",
            "10   S63.SI  0.76     -4.90         0.90    0.17\n",
            "14  M44U.SI  0.75     -6.37         1.02    0.05\n",
            "1    S68.SI  0.75     -6.53         1.04    0.04\n",
            "23   S58.SI  0.91     -8.37         1.25    0.02\n",
            "12   BN4.SI  1.10    -11.01         1.27   -0.02\n",
            "17  C38U.SI  0.88     -8.85         1.12   -0.02\n",
            "19  N2IU.SI  0.94    -10.00         1.02   -0.06\n",
            "3    V03.SI  0.72     -8.37         1.03   -0.09\n",
            "31  3690.HK  1.50    -25.36         4.13   -0.14\n",
            "16   Y92.SI  0.64    -11.32         1.29   -0.25\n",
            "18   U14.SI  0.85    -13.80         0.97   -0.36\n",
            "29  9618.HK  0.84    -26.58         3.08   -0.36\n",
            "2    G13.SI  0.86    -15.85         1.18   -0.40\n",
            "21   C09.SI  0.74    -17.91         1.24   -0.55\n",
            "20   F34.SI  0.91    -19.45         1.20   -0.56\n",
            "0    C52.SI  0.99    -23.13         1.25   -0.69\n",
            "32  6618.HK  0.92    -79.98         4.39   -1.00\n",
            "26  1810.HK  0.26    -61.04         2.61   -1.41\n",
            "8    D01.SI  0.75    -39.91         1.34   -1.54\n",
            "30  1024.HK  1.34   -157.89         4.71   -1.93\n"
          ]
        }
      ],
      "source": [
        "for i in all_stocks:\n",
        "  try:\n",
        "    BASS_output = BASS(i, benchmark_symbol, start, end)\n",
        "    betas.append(BASS_output[0])\n",
        "    alphas.append(BASS_output[1])\n",
        "    std_devs.append(BASS_output[2])\n",
        "    sratios.append(BASS_output[3])\n",
        "    stocks.append(i)\n",
        "  except:\n",
        "    print('The symbol {} not found'.format(i))\n",
        "\n",
        "# prep output\n",
        "output_df = pd.DataFrame()\n",
        "output_df['stock'] = stocks\n",
        "output_df['beta'] = betas\n",
        "output_df['alpha(%)'] = alphas\n",
        "output_df['std_devs(%)'] = std_devs\n",
        "output_df['sharpe'] = sratios\n",
        "\n",
        "print(output_df.sort_values(by='sharpe', ascending=False))"
      ]
    }
  ],
  "metadata": {
    "colab": {
      "provenance": []
    },
    "kernelspec": {
      "display_name": "Python 3",
      "name": "python3"
    },
    "language_info": {
      "name": "python"
    }
  },
  "nbformat": 4,
  "nbformat_minor": 0
}